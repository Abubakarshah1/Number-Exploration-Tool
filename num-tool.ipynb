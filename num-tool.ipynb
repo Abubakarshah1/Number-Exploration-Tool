{
 "cells": [
  {
   "cell_type": "code",
   "execution_count": 2,
   "metadata": {},
   "outputs": [
    {
     "name": "stdout",
     "output_type": "stream",
     "text": [
      "Hey,Abubakar shah! Please Enter your fav three numbers\n",
      "3 is odd \n",
      "6 is even \n",
      "9 is odd \n",
      "Nice to meet you Abubakar shah, here are the information of number you give if they are even or odd\n",
      "\n",
      "Let's see the square of numbers\n",
      "3 square is 9\n",
      "6 square is 36\n",
      "9 square is 81\n",
      "\n",
      " the sum of three numbers is 18!\n",
      "That's a awesome number, isn't it.\n",
      "Ohh, 18 is not a prime! but it's still nice and great.\n",
      "\n",
      "Thank you Abubakar shah hope y0u enjoy finding for fav number\n"
     ]
    }
   ],
   "source": [
    "# Asking For User Name\n",
    "user_name = input(\"Enter Your Name ?\")\n",
    "\n",
    "# Asking for user fav three numbers\n",
    "print(f\"Hey,{user_name}! Please Enter your fav three numbers\")\n",
    "\n",
    "# Collecting  fav num and storing in a list \n",
    "favorite_numbers = []\n",
    "for i in range(1, 4):\n",
    "    number = int(input(f\"Enter favorite number {i}: \"))\n",
    "    favorite_numbers.append(number)\n",
    "\n",
    "# Check if the numbers are even or odd and store the result in a list tuple\n",
    "even_odd_info=[]\n",
    "for num in favorite_numbers:\n",
    "    if num % 2 == 0:\n",
    "        print(f\"{num} is even \")\n",
    "    else:\n",
    "        print(f\"{num} is odd \")\n",
    "             \n",
    "# Display the personalized greeting and even/odd information\n",
    "print(f\"Nice to meet you {user_name}, here are the information of number you give if they are even or odd\")\n",
    "for number, status in  even_odd_info:\n",
    "    print(f\"{num} is {status}\") \n",
    "\n",
    "# Creating a list of tuples containing each number and its square\n",
    "print(\"\\nLet's see the square of numbers\")\n",
    "squares = []\n",
    "for num in favorite_numbers:\n",
    "    square_tuple = (num,num**2 )\n",
    "    squares.append(square_tuple)\n",
    "    print(f\"{num} square is {square_tuple[1]}\") \n",
    "\n",
    "# Calculate the sum of three numbers \n",
    "total_sum = sum(favorite_numbers)\n",
    "print(f\"\\n the sum of three numbers is {total_sum}!\")\n",
    "print(\"That's a awesome number, isn't it.\")    \n",
    "\n",
    "# Determine if the number is prime number or not\n",
    "def is_prime(n):\n",
    "    if n <= 1:\n",
    "        return False\n",
    "    for i in range(2,int(n**0.5)+1):\n",
    "        if n % i ==0:\n",
    "            return False\n",
    "        return True\n",
    "    \n",
    "if is_prime(total_sum):\n",
    "        print(f\"Wao, {total_sum} it's a prime number! that's really great.\")\n",
    "else:\n",
    "        print(f\"Ohh, {total_sum} is not a prime! but it's still nice and great.\")\n",
    "        \n",
    "print(f\"\\nThank you {user_name} hope you enjoy finding for fav number\")"
   ]
  }
 ],
 "metadata": {
  "kernelspec": {
   "display_name": "Python 3",
   "language": "python",
   "name": "python3"
  },
  "language_info": {
   "codemirror_mode": {
    "name": "ipython",
    "version": 3
   },
   "file_extension": ".py",
   "mimetype": "text/x-python",
   "name": "python",
   "nbconvert_exporter": "python",
   "pygments_lexer": "ipython3",
   "version": "3.12.5"
  }
 },
 "nbformat": 4,
 "nbformat_minor": 2
}
